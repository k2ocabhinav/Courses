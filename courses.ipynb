{
 "cells": [
  {
   "cell_type": "code",
   "execution_count": null,
   "metadata": {},
   "outputs": [],
   "source": [
    "{\n",
    "  \"cells\": [\n",
    "    {\n",
    "      \"cell_type\": \"markdown\",\n",
    "      \"metadata\": {},\n",
    "      \"source\": [\n",
    "        \"# My Certificates\\n\",\n",
    "        \"\\n\",\n",
    "        \"1. [ETL and Data Pipelines with Shell, Airflow and Kafka](https://coursera.org/share/b3fbc36441a3ac6564a194378b65bd89)\\n\",\n",
    "        \"2. [Databases and SQL for Data Science with Python](https://coursera.org/share/22504dd3375f43fc73b98fee2c5644c0)\\n\",\n",
    "        \"3. [Introduction to NoSQL Databases](https://coursera.org/share/4158ab183243717d2a3e5891fdf89be8)\\n\",\n",
    "        \"4. [Data Warehouse Fundamentals](https://coursera.org/share/b161c3594c74e16db67eba60462475ed)\\n\",\n",
    "        \"5. [Python for Data Science, AI & Development](https://coursera.org/share/7cc4fa5ab832eff95bb3b0c0b3380ced)\\n\",\n",
    "        \"6. [Relational Database Administration (DBA)](https://coursera.org/share/2a6dd199bd2a5c16d87fca4e4089a507)\\n\"\n",
    "      ]\n",
    "    }\n",
    "  ],\n",
    "  \"metadata\": {\n",
    "    \"kernelspec\": {\n",
    "      \"display_name\": \"Python 3\",\n",
    "      \"language\": \"python\",\n",
    "      \"name\": \"python3\"\n",
    "    },\n",
    "    \"language_info\": {\n",
    "      \"codemirror_mode\": {\n",
    "        \"name\": \"ipython\",\n",
    "        \"version\": 3\n",
    "      },\n",
    "      \"file_extension\": \".py\",\n",
    "      \"mimetype\": \"text/x-python\",\n",
    "      \"name\": \"python\",\n",
    "      \"nbconvert_exporter\": \"python\",\n",
    "      \"pygments_lexer\": \"ipython3\",\n",
    "      \"version\": \"3.8.8\"\n",
    "    }\n",
    "  },\n",
    "  \"nbformat\": 4,\n",
    "  \"nbformat_minor\": 5\n",
    "}\n"
   ]
  }
 ],
 "metadata": {
  "language_info": {
   "name": "python"
  }
 },
 "nbformat": 4,
 "nbformat_minor": 2
}
